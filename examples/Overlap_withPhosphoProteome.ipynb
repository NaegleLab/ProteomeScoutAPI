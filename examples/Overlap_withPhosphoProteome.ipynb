{
 "cells": [
  {
   "cell_type": "markdown",
   "metadata": {},
   "source": [
    "# Example code for using the ProteomeScoutAPI to look at overlap"
   ]
  },
  {
   "cell_type": "markdown",
   "metadata": {},
   "source": [
    "This example is from an experiment that created phosphopeptides that matched proteins for binding measurements. Therefore, the peptide is given (where the central Y is phosphorylated) and the site and accession number these peptides were created from are given.\n",
    "\n",
    "The general framework in interacting with the API will be:\n",
    "1. Check that the protein accession can be found in ProteomeScout PTM_API.get_sequence(ACC)\n",
    "2. For each protein/site pair, see if that phosphorylation site is known to exist in the list of PTM_API.get_phosphosites\n",
    "\n",
    "The remainder of the code is handling possible errors in the file."
   ]
  },
  {
   "cell_type": "code",
   "execution_count": 1,
   "metadata": {
    "collapsed": false
   },
   "outputs": [],
   "source": [
    "# Setup the workspace, \n",
    "from proteomeScoutAPI import ProteomeScoutAPI\n",
    "import numpy as np\n",
    "from scipy import stats\n",
    "import matplotlib.pyplot as plt\n",
    "from pylab import *\n",
    "import pandas as pd\n",
    "from scipy import stats \n",
    "import pickle\n",
    "import re\n",
    "\n",
    "# Establish the API to the current data file\n",
    "\n",
    "# define input file for ProteomeScout data \n",
    "proteomeScoutFile = '../../data/proteomescout_everything_20161218/data.tsv'\n",
    "# read in ProteomeScout data\n",
    "PTM_API = ProteomeScoutAPI(proteomeScoutFile)\n",
    "\n",
    "# Open up and load the file of interest, this file may have redundant sites, so uniquify it.\n",
    "dataFile = 'Overlap_exampleList.txt'\n",
    "df = pd.DataFrame.from_csv(dataFile, sep='\\t')"
   ]
  },
  {
   "cell_type": "markdown",
   "metadata": {},
   "source": [
    "## Get list of all proteins and check they have a record in ProteomeScout database file"
   ]
  },
  {
   "cell_type": "code",
   "execution_count": 2,
   "metadata": {
    "collapsed": false
   },
   "outputs": [],
   "source": [
    "protein_list = [] #this will hold accessions with protein records that can be found\n",
    "protein_list_noMatch = []\n",
    "for protein, group_proteins in df.groupby('acc'): # walk through each list\n",
    "    sequence = PTM_API.get_sequence(protein)\n",
    "    if sequence != '-1': #means the record could not be found\n",
    "        protein_list.append(protein)\n",
    "    else:\n",
    "        protein_list_noMatch.append(protein)\n",
    "    "
   ]
  },
  {
   "cell_type": "markdown",
   "metadata": {},
   "source": [
    "## For proteins, get phosphorylation sites and look at overlap "
   ]
  },
  {
   "cell_type": "markdown",
   "metadata": {},
   "source": [
    "Site codes:\n",
    "E_NP - Error: Peptide not in protein\n",
    "E_NY - Error :Peptide does not conform to Y is center\n",
    "E_PNY - Error: Position in protein sequence is not a Y\n",
    "E_P_NF - Error: Protein not found in ProteomeScout\n",
    "No - Not known to be phosphorylated\n",
    "Yes - Known to be phosphorylated"
   ]
  },
  {
   "cell_type": "code",
   "execution_count": 3,
   "metadata": {
    "collapsed": false
   },
   "outputs": [],
   "source": [
    "columns = ['pep', 'acc', 'site', 'phosphorylation_code' ]\n",
    "df_u = pd.DataFrame(columns=columns) \n",
    "rows_list = []\n",
    "for protein_acc in protein_list:\n",
    "    known_phosphosites = PTM_API.get_phosphosites(protein_acc)\n",
    "    site_pos_Y = []\n",
    "    for pSites in known_phosphosites:\n",
    "        if pSites[1] == 'Y':\n",
    "            site_pos_Y.append(int(pSites[0]))\n",
    "        \n",
    "    df_sub = df[df['acc']==protein_acc]\n",
    "    sequence = PTM_API.get_sequence(protein_acc)\n",
    "    #Walk through each site for a protein\n",
    "    for sites, group in df_sub.groupby(['peptide', 'site']):\n",
    "        site_code = ''\n",
    "        pep = sites[0]\n",
    "        #check that the middle of the peptide is a Y\n",
    "        offset = len(pep)/2\n",
    "        if pep[offset] != 'Y':\n",
    "            site_code = 'E_NY'\n",
    "        else:    \n",
    "            match = sequence.find(pep)\n",
    "            if not match:\n",
    "                site_code = 'E_NP' \n",
    "            else:\n",
    "            \n",
    "                pos = match+len(pep)/2 #phosphorylation site is in center of this peptide string\n",
    "                #print pos\n",
    "                #is that pos a tyrosine\n",
    "                if sequence[pos] == 'Y':\n",
    "                    if int(sites[1]) in site_pos_Y:\n",
    "                        site_code = 'Yes'\n",
    "                    else:\n",
    "                        site_code = 'No'\n",
    "                else:\n",
    "                    site_code = 'E_PNY'\n",
    "        #append a row in the dataframe\n",
    "        row_list = (sites[0], protein_acc, sites[1], site_code)\n",
    "        df_u = df_u.append({'pep':sites[0], 'acc':protein_acc, 'site':sites[1], 'phosphorylation_code':site_code}, ignore_index=True)\n",
    "    \n",
    "\n",
    "        \n"
   ]
  },
  {
   "cell_type": "code",
   "execution_count": 4,
   "metadata": {
    "collapsed": false
   },
   "outputs": [],
   "source": [
    "# append all the sites and proteins for proteins that could not be found\n",
    "site_code = 'E_P_NF'\n",
    "for protein_acc in protein_list_noMatch:\n",
    "    df_sub = df[df['acc']==protein_acc]\n",
    "    for sites, group in df_sub.groupby(['peptide', 'site']):\n",
    "        row_list = (sites[0], protein_acc, sites[1], site_code)\n",
    "        df_u = df_u.append({'pep':sites[0], 'acc':protein_acc, 'site':sites[1], 'phosphorylation_code':site_code}, ignore_index=True)\n",
    "        "
   ]
  },
  {
   "cell_type": "markdown",
   "metadata": {},
   "source": [
    "## Create a report "
   ]
  },
  {
   "cell_type": "code",
   "execution_count": 5,
   "metadata": {
    "collapsed": false
   },
   "outputs": [
    {
     "name": "stdout",
     "output_type": "stream",
     "text": [
      "The total Number of Peptides\t\t1979\n"
     ]
    },
    {
     "data": {
      "text/plain": [
       "phosphorylation_code\n",
       "E_PNY       35\n",
       "E_P_NF     107\n",
       "No        1137\n",
       "Yes        700\n",
       "dtype: int64"
      ]
     },
     "execution_count": 5,
     "metadata": {},
     "output_type": "execute_result"
    }
   ],
   "source": [
    "print \"The total Number of Peptides\\t\\t%d\"%(len(df_u))\n",
    "df_u.groupby(['phosphorylation_code']).size()"
   ]
  },
  {
   "cell_type": "code",
   "execution_count": null,
   "metadata": {
    "collapsed": true
   },
   "outputs": [],
   "source": []
  }
 ],
 "metadata": {
  "anaconda-cloud": {},
  "kernelspec": {
   "display_name": "Python [Root]",
   "language": "python",
   "name": "Python [Root]"
  },
  "language_info": {
   "codemirror_mode": {
    "name": "ipython",
    "version": 2
   },
   "file_extension": ".py",
   "mimetype": "text/x-python",
   "name": "python",
   "nbconvert_exporter": "python",
   "pygments_lexer": "ipython2",
   "version": "2.7.12"
  }
 },
 "nbformat": 4,
 "nbformat_minor": 0
}
